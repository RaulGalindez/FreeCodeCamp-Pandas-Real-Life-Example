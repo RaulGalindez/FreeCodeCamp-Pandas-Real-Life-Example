{
  "nbformat": 4,
  "nbformat_minor": 0,
  "metadata": {
    "colab": {
      "name": "05 Test grabaciones propias.ipynb",
      "provenance": [],
      "collapsed_sections": [],
      "authorship_tag": "ABX9TyO/7rFdKoKk6WfByDiwJ2HP",
      "include_colab_link": true
    },
    "kernelspec": {
      "name": "python3",
      "display_name": "Python 3"
    },
    "language_info": {
      "name": "python"
    }
  },
  "cells": [
    {
      "cell_type": "markdown",
      "metadata": {
        "id": "view-in-github",
        "colab_type": "text"
      },
      "source": [
        "<a href=\"https://colab.research.google.com/github/RaulGalindez/FreeCodeCamp-Pandas-Real-Life-Example/blob/master/05_Test_grabaciones_propias.ipynb\" target=\"_parent\"><img src=\"https://colab.research.google.com/assets/colab-badge.svg\" alt=\"Open In Colab\"/></a>"
      ]
    },
    {
      "cell_type": "markdown",
      "metadata": {
        "id": "uXYTDZ7ZVI0B"
      },
      "source": [
        "**Cargamos nuestro mejor modelo**"
      ]
    },
    {
      "cell_type": "code",
      "metadata": {
        "id": "2MKKhN5aL5BC"
      },
      "source": [
        "import pickle\n",
        "#Para levantar el modelo: \n",
        "#loaded_model = pickle.load(open('MEJOR MODELO.pkl', 'rb'))\n",
        "#loaded_model = pickle.load(open('AdaBoost_26061724h.pkl', 'rb'))\n",
        "#loaded_model = pickle.load(open('https://github.com/blukitas/AA-2021-TP/blob/main/02.TP/AdaBoost_2606_2056h.pkl', 'rb'))\n",
        "loaded_model = pickle.load(open('/content/AdaBoost_2606_2056h.pkl', 'rb'))"
      ],
      "execution_count": 5,
      "outputs": []
    },
    {
      "cell_type": "markdown",
      "metadata": {
        "id": "Bnazn8RS-nRZ"
      },
      "source": [
        "**Importamos dataset a predecir**"
      ]
    },
    {
      "cell_type": "code",
      "metadata": {
        "id": "w7R_K4fMgE-u",
        "colab": {
          "base_uri": "https://localhost:8080/"
        },
        "outputId": "0cedf335-d8b6-4312-ef80-007de5abccd3"
      },
      "source": [
        "!wget https://github.com/blukitas/AA-2021-TP/blob/main/02.TP/audios_propios.zip"
      ],
      "execution_count": 6,
      "outputs": [
        {
          "output_type": "stream",
          "text": [
            "--2021-06-27 15:00:11--  https://github.com/blukitas/AA-2021-TP/blob/main/02.TP/audios_propios.zip\n",
            "Resolving github.com (github.com)... 140.82.112.4\n",
            "Connecting to github.com (github.com)|140.82.112.4|:443... connected.\n",
            "HTTP request sent, awaiting response... 404 Not Found\n",
            "2021-06-27 15:00:12 ERROR 404: Not Found.\n",
            "\n"
          ],
          "name": "stdout"
        }
      ]
    }
  ]
}